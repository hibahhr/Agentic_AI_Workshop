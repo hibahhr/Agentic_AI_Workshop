{
  "nbformat": 4,
  "nbformat_minor": 0,
  "metadata": {
    "colab": {
      "provenance": []
    },
    "kernelspec": {
      "name": "python3",
      "display_name": "Python 3"
    },
    "language_info": {
      "name": "python"
    }
  },
  "cells": [
    {
      "cell_type": "markdown",
      "source": [
        "## Install and Import Libraries"
      ],
      "metadata": {
        "id": "tiwg8W65O2bE"
      }
    },
    {
      "cell_type": "code",
      "source": [
        "!pip install -q -U google-generativeai langchain langchain-community langchain-google-genai chromadb sentence-transformers tiktoken pypdf"
      ],
      "metadata": {
        "collapsed": true,
        "id": "HKpHmhdVtMeo"
      },
      "execution_count": null,
      "outputs": []
    },
    {
      "cell_type": "code",
      "source": [
        "from langchain.embeddings import HuggingFaceEmbeddings\n",
        "from langchain.vectorstores import Chroma\n",
        "from langchain.document_loaders import TextLoader\n",
        "from langchain.text_splitter import RecursiveCharacterTextSplitter\n",
        "from langchain.chains import RetrievalQA\n",
        "from langchain.document_loaders import PyPDFLoader\n",
        "import os\n",
        "import google.generativeai as genai\n",
        "from langchain_google_genai import ChatGoogleGenerativeAI"
      ],
      "metadata": {
        "id": "zsvkKaXntPKF"
      },
      "execution_count": null,
      "outputs": []
    },
    {
      "cell_type": "markdown",
      "source": [
        "## Setup Google Genai LLM"
      ],
      "metadata": {
        "id": "mEtc5EhpPBNj"
      }
    },
    {
      "cell_type": "code",
      "source": [
        "from google.colab import userdata\n",
        "os.environ[\"GOOGLE_API_KEY\"] = userdata.get('GOOGLE_API_KEY')\n",
        "genai.configure(api_key=os.environ[\"GOOGLE_API_KEY\"])\n",
        "llm = ChatGoogleGenerativeAI(model=\"gemini-1.5-flash\", temperature=0.2)"
      ],
      "metadata": {
        "id": "7Kkw1O6Y0gm1"
      },
      "execution_count": null,
      "outputs": []
    },
    {
      "cell_type": "code",
      "source": [
        "os.environ[\"HUGGINGFACE_API_KEY\"] = userdata.get('HUGGINGFACE_API_KEY')"
      ],
      "metadata": {
        "id": "wT0WU3rk60iI"
      },
      "execution_count": null,
      "outputs": []
    },
    {
      "cell_type": "markdown",
      "source": [
        "## Download RAG documents"
      ],
      "metadata": {
        "id": "mDcZIOPB23nV"
      }
    },
    {
      "cell_type": "code",
      "source": [
        "import os\n",
        "\n",
        "os.makedirs(\"/content/papers\", exist_ok=True)\n",
        "\n",
        "pdf_files = {\n",
        "    \"kpi_rag_dataset.pdf\":\"1rgvkk0xC1yJ7sxsZkfxOkEcJpc6du_vP\"\n",
        "}\n",
        "\n",
        "for filename, file_id in pdf_files.items():\n",
        "  url = f\"https://drive.google.com/uc?export=download&id={file_id}\"\n",
        "  output_path = f\"/content/papers/{filename}\"\n",
        "  !wget -q --show-progress \"{url}\" -O \"{output_path}\"\n",
        "\n",
        "print(\"Files downloaded successfully\")"
      ],
      "metadata": {
        "id": "u3Vc8DTI26w7"
      },
      "execution_count": null,
      "outputs": []
    },
    {
      "cell_type": "code",
      "source": [
        "pdf_path = \"/content/papers/kpi_rag_dataset.pdf\"\n",
        "loader = PyPDFLoader(pdf_path)\n",
        "pages = loader.load()\n",
        "splitter = RecursiveCharacterTextSplitter(chunk_size=1000, chunk_overlap=150)\n",
        "chunks = splitter.split_documents(pages)\n",
        "\n",
        "# Vector store\n",
        "embedding_model = HuggingFaceEmbeddings()\n",
        "vectorstore = Chroma.from_documents(chunks, embedding_model, persist_directory=\"rag_db\")\n",
        "vectorstore.persist()\n",
        "\n",
        "# RAG Chain\n",
        "qa_chain = RetrievalQA.from_chain_type(\n",
        "    llm=llm,\n",
        "    retriever=vectorstore.as_retriever(),\n",
        "    chain_type=\"stuff\"\n",
        ")"
      ],
      "metadata": {
        "id": "7Op61dEi4nBo"
      },
      "execution_count": null,
      "outputs": []
    },
    {
      "cell_type": "code",
      "source": [
        "test_inputs = [\n",
        "    {\n",
        "        \"startup\": {\"type\": \"SaaS\", \"stage\": \"Early\"},\n",
        "        \"kpis\": [\"Instagram Followers\", \"Website Visits\", \"Monthly Recurring Revenue\", \"Trial Conversion Rate\"]\n",
        "    },\n",
        "    {\n",
        "        \"startup\": {\"type\": \"Marketplace\", \"stage\": \"Growth\"},\n",
        "        \"kpis\": [\"GMV\", \"Likes\", \"Conversion Rate\", \"Active Sellers\"]\n",
        "    },\n",
        "    {\n",
        "        \"startup\": {\"type\": \"D2C\", \"stage\": \"Seed\"},\n",
        "        \"kpis\": [\"Impressions\", \"Repeat Purchase Rate\", \"Net Promoter Score\"]\n",
        "    },\n",
        "    {\n",
        "        \"startup\": {\"type\": \"Subscription\", \"stage\": \"Scale\"},\n",
        "        \"kpis\": [\"Subscribers\", \"Website Visits\", \"Churn Rate\", \"Engagement Rate\"]\n",
        "    }\n",
        "]\n",
        "\n",
        "for i, test_case in enumerate(test_inputs, 1):\n",
        "    startup = test_case[\"startup\"]\n",
        "    kpis = test_case[\"kpis\"]\n",
        "\n",
        "    print(f\"\\n===================== Test Case {i}: {startup['type']} ({startup['stage']} Stage) =====================\")\n"
      ],
      "metadata": {
        "id": "0aQScDxp4sY8"
      },
      "execution_count": null,
      "outputs": []
    },
    {
      "cell_type": "markdown",
      "source": [
        "## Agent 1: Startup Interpreter Agent"
      ],
      "metadata": {
        "id": "HBuK8g_aPJED"
      }
    },
    {
      "cell_type": "code",
      "source": [
        "def interpret_startup(startup_info):\n",
        "    prompt = f\"\"\"\n",
        "You are a startup KPI expert.\n",
        "\n",
        "Given the following startup information:\n",
        "- Type: {startup_info[\"type\"]}\n",
        "- Stage: {startup_info[\"stage\"]}\n",
        "\n",
        "Suggest what the startup's core metric focus should be at this stage (e.g., retention, GMV, engagement, churn, growth, etc.).\n",
        "Return the output as a Python dictionary with keys: type, stage, relevant_metric_focus.\n",
        "\"\"\"\n",
        "    response = llm.invoke(prompt).content.strip()\n",
        "\n",
        "    # Remove code block markers if present\n",
        "    if response.startswith(\"```\"):\n",
        "        response = response.split(\"```\")[1].strip()\n",
        "\n",
        "    return eval(response)\n"
      ],
      "metadata": {
        "id": "qQvAUK9VtXpI"
      },
      "execution_count": null,
      "outputs": []
    },
    {
      "cell_type": "code",
      "source": [
        "# context = interpret_startup(startup)\n",
        "# print(\"✅ Agent 1 Output (Startup Interpretation):\")\n",
        "# print(context)"
      ],
      "metadata": {
        "id": "TqV-dbXo73na"
      },
      "execution_count": null,
      "outputs": []
    },
    {
      "cell_type": "markdown",
      "source": [
        "## Agent 2: KPI Critique Agent"
      ],
      "metadata": {
        "id": "kVLxEIAGPQYy"
      }
    },
    {
      "cell_type": "code",
      "source": [
        "def critique_kpis_with_llm(kpis, context):\n",
        "    prompt = f\"\"\"\n",
        "You are a KPI analysis expert for startups.\n",
        "\n",
        "Startup Type: {context['type']}\n",
        "Startup Stage: {context['stage']}\n",
        "\n",
        "Classify each of the following KPIs as a 'Vanity Metric' or an 'Impact Metric'.\n",
        "Provide a one-line explanation for each.\n",
        "\n",
        "KPIs: {', '.join(kpis)}\n",
        "\"\"\"\n",
        "    return llm.invoke(prompt).content"
      ],
      "metadata": {
        "id": "maNfpAVRwgJ_"
      },
      "execution_count": null,
      "outputs": []
    },
    {
      "cell_type": "code",
      "source": [
        "# critique_output = critique_kpis_with_llm(kpis, context)\n",
        "#     print(\"\\n✅ Agent 2 Output (LLM Critique of KPIs):\")\n",
        "#     print(critique_output)"
      ],
      "metadata": {
        "id": "d15E8Lkg8HEn"
      },
      "execution_count": null,
      "outputs": []
    },
    {
      "cell_type": "code",
      "source": [
        "# test_kpi_inputs = [\n",
        "#     {\n",
        "#         \"kpis\": [\"Instagram Followers\", \"Website Visits\", \"Monthly Recurring Revenue\", \"Trial Conversion Rate\"],\n",
        "#         \"context\": {\"type\": \"SaaS\", \"stage\": \"Early\"}\n",
        "#     },\n",
        "#     {\n",
        "#         \"kpis\": [\"GMV\", \"Likes\", \"Conversion Rate\", \"Active Sellers\"],\n",
        "#         \"context\": {\"type\": \"Marketplace\", \"stage\": \"Growth\"}\n",
        "#     },\n",
        "#     {\n",
        "#         \"kpis\": [\"Impressions\", \"Repeat Purchase Rate\", \"Net Promoter Score\"],\n",
        "#         \"context\": {\"type\": \"D2C\", \"stage\": \"Seed\"}\n",
        "#     },\n",
        "#     {\n",
        "#         \"kpis\": [\"Subscribers\", \"Website Visits\", \"Churn Rate\", \"Engagement Rate\"],\n",
        "#         \"context\": {\"type\": \"Subscription\", \"stage\": \"Scale\"}\n",
        "#     }\n",
        "# ]\n",
        "\n",
        "# for i, test_case in enumerate(test_kpi_inputs, 1):\n",
        "#     kpis = test_case[\"kpis\"]\n",
        "#     context = test_case[\"context\"]\n",
        "#     print(f\"\\n--- Test Case {i} ---\")\n",
        "#     print(f\"Input KPIs: {kpis}\")\n",
        "#     print(f\"Startup Context: {context}\")\n",
        "#     print(\"LLM Critique Output:\\n\")\n",
        "#     result = critique_kpis_with_llm(kpis, context)\n",
        "#     print(result)\n"
      ],
      "metadata": {
        "id": "rtjO3fk_tjic"
      },
      "execution_count": null,
      "outputs": []
    },
    {
      "cell_type": "markdown",
      "source": [
        "##Agent 3: Impact Metric Retriever Agent"
      ],
      "metadata": {
        "id": "Fdj00XXO0WGk"
      }
    },
    {
      "cell_type": "code",
      "source": [
        "def retrieve_impact_metrics(context):\n",
        "    query = f\"What are the most impactful KPIs for a {context['stage']} stage {context['type']} startup?\"\n",
        "    return qa_chain.run(query)"
      ],
      "metadata": {
        "id": "p_Epu2kQ0T4z"
      },
      "execution_count": null,
      "outputs": []
    },
    {
      "cell_type": "code",
      "source": [
        "rag_output = retrieve_impact_metrics(context)\n",
        "    print(\"\\nAgent 3 Output (RAG Retrieved KPIs):\")\n",
        "    print(rag_output)"
      ],
      "metadata": {
        "id": "GYV-SEly_A0Z"
      },
      "execution_count": null,
      "outputs": []
    },
    {
      "cell_type": "code",
      "source": [
        "# # --- Test Cases for Agent 3: Impact Metric Retriever Agent ---\n",
        "# test_startup_contexts = [\n",
        "#     {\"type\": \"SaaS\", \"stage\": \"Early\"},\n",
        "#     {\"type\": \"Marketplace\", \"stage\": \"Growth\"},\n",
        "#     {\"type\": \"D2C\", \"stage\": \"Seed\"},\n",
        "#     {\"type\": \"Subscription\", \"stage\": \"Scale\"},\n",
        "# ]\n",
        "\n",
        "# # --- Run and Print Outputs ---\n",
        "# for i, context in enumerate(test_startup_contexts, 1):\n",
        "#     print(f\"\\n🔍 Test Case {i}: {context['type']} - {context['stage']} Stage\")\n",
        "#     query = f\"What are the most impactful KPIs for a {context['stage']} stage {context['type']} startup?\"\n",
        "#     result = qa_chain.run(query)\n",
        "#     print(result)\n"
      ],
      "metadata": {
        "id": "1B0lI-xh1lGK"
      },
      "execution_count": null,
      "outputs": []
    },
    {
      "cell_type": "code",
      "source": [
        "# Agent 4: Visualize Combined Insight\n",
        "    print(\"\\n✅ Agent 4: Insight Visualizer Output:\")\n",
        "    visualize_insights(startup, critique_output, rag_output)"
      ],
      "metadata": {
        "id": "oPYq4yAp_EtT"
      },
      "execution_count": null,
      "outputs": []
    },
    {
      "cell_type": "code",
      "source": [
        "def visualize_insights(startup, critique_output, rag_output):\n",
        "    print(f\"\\n📊 Summary for {startup['type']} ({startup['stage']} stage)\")\n",
        "    print(\"----------------------------------------------------\")\n",
        "    print(\"🔍 KPI Classification:\\n\")\n",
        "    print(critique_output)\n",
        "    print(\"\\n📘 Recommended Impact KPIs from Knowledge Base:\\n\")\n",
        "    print(rag_output)\n",
        "    print(\"----------------------------------------------------\\n\")"
      ],
      "metadata": {
        "id": "-tNFA8Nk-ppz"
      },
      "execution_count": null,
      "outputs": []
    },
    {
      "cell_type": "code",
      "source": [
        "for i, test_case in enumerate(test_inputs, 1):\n",
        "    startup = test_case[\"startup\"]\n",
        "    kpis = test_case[\"kpis\"]\n",
        "\n",
        "    print(f\"\\n===================== Test Case {i}: {startup['type']} ({startup['stage']} Stage) =====================\")\n",
        "\n",
        "    # Agent 1: Startup Interpretation\n",
        "    context = interpret_startup(startup)\n",
        "    print(\"✅ Agent 1 Output (Startup Interpretation):\")\n",
        "    print(context)\n",
        "\n",
        "    # Agent 2: KPI Critique\n",
        "    critique_output = critique_kpis_with_llm(kpis, context)\n",
        "    print(\"\\n✅ Agent 2 Output (LLM Critique of KPIs):\")\n",
        "    print(critique_output)\n",
        "\n",
        "    # Agent 3: RAG-based Impact Metrics\n",
        "    rag_output = retrieve_impact_metrics(context)\n",
        "    print(\"\\n✅ Agent 3 Output (RAG Retrieved KPIs):\")\n",
        "    print(rag_output)\n",
        "\n",
        "    # Agent 4: Visualize Combined Insight\n",
        "    print(\"\\n✅ Agent 4: Insight Visualizer Output:\")\n",
        "    visualize_insights(startup, critique_output, rag_output)"
      ],
      "metadata": {
        "id": "djWe79lc_x9l"
      },
      "execution_count": null,
      "outputs": []
    }
  ]
}