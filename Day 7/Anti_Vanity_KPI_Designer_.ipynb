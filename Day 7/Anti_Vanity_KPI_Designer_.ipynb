{
  "nbformat": 4,
  "nbformat_minor": 0,
  "metadata": {
    "colab": {
      "provenance": []
    },
    "kernelspec": {
      "name": "python3",
      "display_name": "Python 3"
    },
    "language_info": {
      "name": "python"
    }
  },
  "cells": [
    {
      "cell_type": "code",
      "source": [
        "!pip install -q -U google-generativeai langchain langchain-community langchain-google-genai chromadb sentence-transformers tiktoken"
      ],
      "metadata": {
        "colab": {
          "base_uri": "https://localhost:8080/"
        },
        "collapsed": true,
        "id": "HKpHmhdVtMeo",
        "outputId": "cb25a553-e250-4378-8151-3a75bb72e345"
      },
      "execution_count": 28,
      "outputs": [
        {
          "output_type": "stream",
          "name": "stdout",
          "text": [
            "\u001b[?25l   \u001b[90m━━━━━━━━━━━━━━━━━━━━━━━━━━━━━━━━━━━━━━━━\u001b[0m \u001b[32m0.0/42.0 kB\u001b[0m \u001b[31m?\u001b[0m eta \u001b[36m-:--:--\u001b[0m\r\u001b[2K   \u001b[90m━━━━━━━━━━━━━━━━━━━━━━━━━━━━━━━━━━━━━━━━\u001b[0m \u001b[32m42.0/42.0 kB\u001b[0m \u001b[31m1.9 MB/s\u001b[0m eta \u001b[36m0:00:00\u001b[0m\n",
            "\u001b[?25h"
          ]
        }
      ]
    },
    {
      "cell_type": "code",
      "source": [
        "from langchain.embeddings import HuggingFaceEmbeddings\n",
        "from langchain.vectorstores import Chroma\n",
        "from langchain.document_loaders import TextLoader\n",
        "from langchain.text_splitter import RecursiveCharacterTextSplitter\n",
        "from langchain.chains import RetrievalQA\n",
        "import os\n",
        "import google.generativeai as genai\n",
        "from langchain_google_genai import ChatGoogleGenerativeAI"
      ],
      "metadata": {
        "id": "zsvkKaXntPKF"
      },
      "execution_count": 38,
      "outputs": []
    },
    {
      "cell_type": "code",
      "source": [
        "from google.colab import userdata\n",
        "os.environ[\"GOOGLE_API_KEY\"] = userdata.get('GOOGLE_API_KEY')\n",
        "genai.configure(api_key=os.environ[\"GOOGLE_API_KEY\"])\n",
        "llm = ChatGoogleGenerativeAI(model=\"gemini-1.5-flash\", temperature=0.2)"
      ],
      "metadata": {
        "id": "7Kkw1O6Y0gm1"
      },
      "execution_count": 40,
      "outputs": []
    },
    {
      "cell_type": "code",
      "source": [
        "# --- Agent 1: Startup Type Interpreter Agent ---\n",
        "def interpret_startup(startup_info):\n",
        "    return {\n",
        "        \"type\": startup_info[\"type\"],\n",
        "        \"stage\": startup_info[\"stage\"],\n",
        "        \"relevant_metric_focus\": \"retention and engagement\" if startup_info[\"type\"].lower() == \"saas\" else \"GMV\"\n",
        "    }"
      ],
      "metadata": {
        "id": "qQvAUK9VtXpI"
      },
      "execution_count": 41,
      "outputs": []
    },
    {
      "cell_type": "code",
      "source": [
        "# --- Test Agent 1 ---\n",
        "test_startups = [\n",
        "    {\"type\": \"SaaS\", \"stage\": \"Early\"},\n",
        "    {\"type\": \"Marketplace\", \"stage\": \"Growth\"},\n",
        "    {\"type\": \"D2C\", \"stage\": \"Seed\"},\n",
        "    {\"type\": \"Subscription\", \"stage\": \"Scale\"},\n",
        "]\n",
        "\n",
        "# --- Run and Print Outputs ---\n",
        "for i, startup in enumerate(test_startups, 1):\n",
        "    result = interpret_startup(startup)\n",
        "    print(f\"Test Case {i}:\")\n",
        "    print(f\"Input: {startup}\")\n",
        "    print(f\"Output: {result}\\\\n\")"
      ],
      "metadata": {
        "colab": {
          "base_uri": "https://localhost:8080/"
        },
        "id": "PwYbei2-wAVc",
        "outputId": "b4da76a6-dc2f-4042-a670-4580e14376b3"
      },
      "execution_count": 42,
      "outputs": [
        {
          "output_type": "stream",
          "name": "stdout",
          "text": [
            "Test Case 1:\n",
            "Input: {'type': 'SaaS', 'stage': 'Early'}\n",
            "Output: {'type': 'SaaS', 'stage': 'Early', 'relevant_metric_focus': 'retention and engagement'}\\n\n",
            "Test Case 2:\n",
            "Input: {'type': 'Marketplace', 'stage': 'Growth'}\n",
            "Output: {'type': 'Marketplace', 'stage': 'Growth', 'relevant_metric_focus': 'GMV'}\\n\n",
            "Test Case 3:\n",
            "Input: {'type': 'D2C', 'stage': 'Seed'}\n",
            "Output: {'type': 'D2C', 'stage': 'Seed', 'relevant_metric_focus': 'GMV'}\\n\n",
            "Test Case 4:\n",
            "Input: {'type': 'Subscription', 'stage': 'Scale'}\n",
            "Output: {'type': 'Subscription', 'stage': 'Scale', 'relevant_metric_focus': 'GMV'}\\n\n"
          ]
        }
      ]
    },
    {
      "cell_type": "code",
      "source": [
        "# --- Agent 2: KPI Critique Agent ---\n",
        "def critique_kpis_with_llm(kpis, context):\n",
        "    prompt = f\"\"\"\n",
        "You are a KPI analysis expert for startups.\n",
        "\n",
        "Startup Type: {context['type']}\n",
        "Startup Stage: {context['stage']}\n",
        "\n",
        "Classify each of the following KPIs as a 'Vanity Metric' or an 'Impact Metric'.\n",
        "Provide a one-line explanation for each.\n",
        "\n",
        "KPIs: {', '.join(kpis)}\n",
        "    \"\"\"\n",
        "    return llm.invoke(prompt).content\n"
      ],
      "metadata": {
        "id": "maNfpAVRwgJ_"
      },
      "execution_count": 43,
      "outputs": []
    },
    {
      "cell_type": "code",
      "source": [
        "# --- Test Agent 2 ---\n",
        "test_kpi_inputs = [\n",
        "    {\n",
        "        \"kpis\": [\"Instagram Followers\", \"Website Visits\", \"Monthly Recurring Revenue\", \"Trial Conversion Rate\"],\n",
        "        \"context\": {\"type\": \"SaaS\", \"stage\": \"Early\"}\n",
        "    },\n",
        "    {\n",
        "        \"kpis\": [\"GMV\", \"Likes\", \"Conversion Rate\", \"Active Sellers\"],\n",
        "        \"context\": {\"type\": \"Marketplace\", \"stage\": \"Growth\"}\n",
        "    },\n",
        "    {\n",
        "        \"kpis\": [\"Impressions\", \"Repeat Purchase Rate\", \"Net Promoter Score\"],\n",
        "        \"context\": {\"type\": \"D2C\", \"stage\": \"Seed\"}\n",
        "    },\n",
        "    {\n",
        "        \"kpis\": [\"Subscribers\", \"Website Visits\", \"Churn Rate\", \"Engagement Rate\"],\n",
        "        \"context\": {\"type\": \"Subscription\", \"stage\": \"Scale\"}\n",
        "    }\n",
        "]\n",
        "\n",
        "# --- Run and Print Outputs ---\n",
        "for i, test_case in enumerate(test_kpi_inputs, 1):\n",
        "    kpis = test_case[\"kpis\"]\n",
        "    context = test_case[\"context\"]\n",
        "    result = critique_kpis(kpis, context)\n",
        "    print(f\"Test Case {i}:\")\n",
        "    print(f\"Input KPIs: {kpis}\")\n",
        "    print(f\"Startup Context: {context}\")\n",
        "    print(\"Critique:\")\n",
        "    for kpi, status in result.items():\n",
        "        print(f\"- {kpi}: {status}\")\n",
        "    print()"
      ],
      "metadata": {
        "colab": {
          "base_uri": "https://localhost:8080/"
        },
        "id": "rtjO3fk_tjic",
        "outputId": "8975419a-883a-4872-cc3c-bd6021c744bf"
      },
      "execution_count": 44,
      "outputs": [
        {
          "output_type": "stream",
          "name": "stdout",
          "text": [
            "Test Case 1:\n",
            "Input KPIs: ['Instagram Followers', 'Website Visits', 'Monthly Recurring Revenue', 'Trial Conversion Rate']\n",
            "Startup Context: {'type': 'SaaS', 'stage': 'Early'}\n",
            "Critique:\n",
            "- Instagram Followers: ❌ Vanity metric\n",
            "- Website Visits: ❌ Vanity metric\n",
            "- Monthly Recurring Revenue: ✅ Potential impact metric\n",
            "- Trial Conversion Rate: ✅ Potential impact metric\n",
            "\n",
            "Test Case 2:\n",
            "Input KPIs: ['GMV', 'Likes', 'Conversion Rate', 'Active Sellers']\n",
            "Startup Context: {'type': 'Marketplace', 'stage': 'Growth'}\n",
            "Critique:\n",
            "- GMV: ✅ Potential impact metric\n",
            "- Likes: ❌ Vanity metric\n",
            "- Conversion Rate: ✅ Potential impact metric\n",
            "- Active Sellers: ✅ Potential impact metric\n",
            "\n",
            "Test Case 3:\n",
            "Input KPIs: ['Impressions', 'Repeat Purchase Rate', 'Net Promoter Score']\n",
            "Startup Context: {'type': 'D2C', 'stage': 'Seed'}\n",
            "Critique:\n",
            "- Impressions: ❌ Vanity metric\n",
            "- Repeat Purchase Rate: ✅ Potential impact metric\n",
            "- Net Promoter Score: ✅ Potential impact metric\n",
            "\n",
            "Test Case 4:\n",
            "Input KPIs: ['Subscribers', 'Website Visits', 'Churn Rate', 'Engagement Rate']\n",
            "Startup Context: {'type': 'Subscription', 'stage': 'Scale'}\n",
            "Critique:\n",
            "- Subscribers: ✅ Potential impact metric\n",
            "- Website Visits: ❌ Vanity metric\n",
            "- Churn Rate: ✅ Potential impact metric\n",
            "- Engagement Rate: ✅ Potential impact metric\n",
            "\n"
          ]
        }
      ]
    }
  ]
}